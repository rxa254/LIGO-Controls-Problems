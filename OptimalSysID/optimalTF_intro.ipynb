{
 "cells": [
  {
   "cell_type": "markdown",
   "metadata": {},
   "source": [
    "# <font color= 'Green'>Optimal System Identification for LIGO</font>\n",
    "### of linear, time-invariant (LTI) systems\n",
    "***\n",
    "* the LIGO Control Systems Working Group wiki: https://wiki.ligo.org/CSWG/OptTF\n",
    "* Rana's public GitHub page on LIGO Controls problems: https://github.com/rxa254/LIGO-Controls-Problems\n",
    "***\n",
    "This notebook is meant to give an introduction to a couple of kinds of sysID problems in LIGO. The goal is to generate a few specific strategies to do this better for important cases, and eventually to make a more general tool for this."
   ]
  },
  {
   "cell_type": "markdown",
   "metadata": {},
   "source": [
    "# Overview\n",
    "## The Identification Problem\n",
    "We would like to know what our physical plants (optics, suspensions, electronics, cavities) are doing. In nearly all cases, we need not consider the nonlinearity or time-dependence of the plant (notable exceptions due to thermal processes and slow drift and changes in laser power).\n",
    "\n",
    "We approach this problem by making Transfer Functions (TF) of the system that we are interested in.\n",
    "\n",
    "How to make a TF measurement:\n",
    "1. with enough SNR at the frequencies of interest\n",
    "1. without saturating the actuators too much\n",
    "1. within a small enough amount of time (so that our precious commissioning / observation time is not squandered)"
   ]
  },
  {
   "cell_type": "code",
   "execution_count": 5,
   "metadata": {
    "collapsed": false,
    "jupyter": {
     "outputs_hidden": false
    }
   },
   "outputs": [],
   "source": [
    "%matplotlib inline\n",
    "# Import packages.\n",
    "import matplotlib.pyplot as plt\n",
    "from scipy import signal\n",
    "import numpy as np\n",
    "\n",
    "\n"
   ]
  },
  {
   "cell_type": "code",
   "execution_count": 6,
   "metadata": {},
   "outputs": [],
   "source": [
    "# Let's define the system to be 'identified'\n",
    "\n",
    "# pendulum\n",
    "zz = []\n",
    "f_p = 1\n",
    "a_p = 60\n",
    "pp = [f_p*np.exp(1j*a_p*np.pi/180)]\n",
    "pp = [pp[0],np.conj(pp[0])]\n",
    "pend = signal.ZerosPolesGain(zz,pp,1)"
   ]
  },
  {
   "cell_type": "code",
   "execution_count": null,
   "metadata": {
    "collapsed": false,
    "jupyter": {
     "outputs_hidden": false
    }
   },
   "outputs": [],
   "source": [
    "# here we calculate the waveform"
   ]
  },
  {
   "cell_type": "markdown",
   "metadata": {},
   "source": [
    "But a good way to represent the audio files is through a spectrogram (short time fourier transform), google this if you dont know what this means. So we plot the spectrograms of our separation."
   ]
  },
  {
   "cell_type": "code",
   "execution_count": null,
   "metadata": {
    "collapsed": false,
    "jupyter": {
     "outputs_hidden": false
    }
   },
   "outputs": [],
   "source": [
    "plt.figure()\n",
    "f, t, S = signal.spectrogram(s[0][0])\n",
    "plt.pcolormesh(t, f, S)\n",
    "plt.ylabel('Frequency [Hz]')\n",
    "plt.xlabel('Time [sec]')\n",
    "plt.title('Spectrogram of Output 1')\n",
    "\n",
    "plt.figure()\n",
    "f, t, S = signal.spectrogram(s[1][0])\n",
    "plt.pcolormesh(t, f, S)\n",
    "plt.ylabel('Frequency [Hz]')\n",
    "plt.xlabel('Time [sec]')\n",
    "plt.title('Spectrogram of Output 2')\n",
    "\n",
    "# Storing numpy array as audio\n",
    "wavfile.write('fastICA/out1.wav', samplingRate, np.transpose(s[0][0]))\n",
    "wavfile.write('fastICA/out2.wav', samplingRate, np.transpose(s[1][0]))"
   ]
  },
  {
   "cell_type": "code",
   "execution_count": null,
   "metadata": {
    "collapsed": false,
    "jupyter": {
     "outputs_hidden": false
    }
   },
   "outputs": [],
   "source": [
    "from IPython.display import Audio\n",
    "print('Mixed Signal 1')\n",
    "Audio(\"fastICA/mic1.wav\")"
   ]
  },
  {
   "cell_type": "code",
   "execution_count": null,
   "metadata": {
    "collapsed": false,
    "jupyter": {
     "outputs_hidden": false
    }
   },
   "outputs": [],
   "source": [
    "print('Mixed Signal 2')\n",
    "Audio(\"fastICA/mic2.wav\")"
   ]
  },
  {
   "cell_type": "code",
   "execution_count": null,
   "metadata": {
    "collapsed": false,
    "jupyter": {
     "outputs_hidden": false
    }
   },
   "outputs": [],
   "source": [
    "print('Original separated signal 1')\n",
    "Audio(\"fastICA/source1.wav\")"
   ]
  },
  {
   "cell_type": "code",
   "execution_count": null,
   "metadata": {
    "collapsed": false,
    "jupyter": {
     "outputs_hidden": false
    }
   },
   "outputs": [],
   "source": [
    "print('Original separated signal 2')\n",
    "Audio(\"fastICA/source1.wav\")"
   ]
  },
  {
   "cell_type": "code",
   "execution_count": null,
   "metadata": {
    "collapsed": false,
    "jupyter": {
     "outputs_hidden": false
    }
   },
   "outputs": [],
   "source": [
    "print('Separated signal 1 (output)')\n",
    "Audio(\"fastICA/out1.wav\")"
   ]
  },
  {
   "cell_type": "code",
   "execution_count": null,
   "metadata": {
    "collapsed": false,
    "jupyter": {
     "outputs_hidden": false
    }
   },
   "outputs": [],
   "source": [
    "print('Separated signal 2 (output)')\n",
    "Audio(\"fastICA/out2.wav\")"
   ]
  },
  {
   "cell_type": "markdown",
   "metadata": {},
   "source": [
    "## <font color='blue'>FOBI</font>\n",
    "\n",
    "FOBI stands for Fourth Order Blind Identification. \n",
    "\n",
    "As the name suggests, it is based on considering fourth order moments and using them as a metric for Gaussianity. \n",
    "Covariance, variance and the covariance matrix are second order moments. \n",
    "Fourth order moments are usually referred to by the term kurtosis. There are other ICA methods that explicitly work with kurtosis, but not so with FOBI. \n",
    "\n",
    "FOBI is a very elegant method that works without the need to search a solution space for the indepenedent components(as is the case with fastICA and other negentropy or maximum-likelihood based ICA approaches). Rather, it provides an explicit algebraic formula for the independent components. \n",
    "\n",
    "It has some striking and appealing similarities to PCA. FOBI is based on the following amazing fact:\n",
    "\n",
    "**The weights of the independent components are the eigenvectors of the matrix $cov(|X'|X')$. **\n",
    "\n",
    "The statement requires some explanation. \n",
    "$X'$ is the matrix obtained after preprocessing $X$ (mean-centered and whitened).\n",
    "\n",
    "$|X'|$ needs to be explained. Remember that each column of $X'$ corresponds to the (whitened) set of amplitudes recorded at some instant of time by the **m** microphones. If we take this column to be a vector, then the norm (aka the modulus) of this vector is well defined. We find the norm of each column of **X'** and put these calculated norms in a row matrix. This is the matrix $|X'|$. \n",
    "Hence, $|X'|$ is simply the norm of the matrix $X$ taken along the \"column-axis\".\n",
    "\n",
    "But here comes a caveat: The matrix $|X'|X'$ is not formed by the normal matrix multiplication between $|X'|$ and $X'$. We have written it this way only for notational convnenience. Instead, we are using the elements of $|X'|$ as weights for the columns of $X'$. That is, the matrix $|X'|X'$ is formed as follows:\n",
    "\n",
    "The **i**th column of $|X'|X'$ is formed by a scalar multiplication of the **i**th element of the **1 x m** row matrix $|X'|$ with the **i**th column of the **m x n** matrix $X'$ (each element within this column is thus multiplied by the same scalar value equal to the **i**th element of $|X'$).   \n",
    "\n",
    "Hence, $|X'|X'$ is a weighted version of $X'$. It is easy to think of each column of $X'$ as a vector in an m-dimensional space. Then $|X'|$ contains the norms of the **m** columns of $X'$ i.e vectors. Multiplying each vector (column) by it's norm and storing these column vectors as columns in a new matrix yields $|X'|X'$.\n",
    "\n",
    "And what does the statement itself mean? Well, remember how we said that $X = AS$. After whitening, we can say that $X' = A'S'$.\n",
    "Here, $S'$ corresponds to the source signals itself, but their amplitude has been normalised. (Recall how ICA can only recover the signals upto to a multiplicative factor.)  \n",
    "\n",
    "The columns of $A'$ are the weights being referred to in the statement above. They are called weights because the each row of $S'$ is a source signal. Upon performing matrix multiplication between $A'$ and $S'$, we can see that $X' = \\sum_{1}^{m}A'_{i}S'_{i}$. Note that $A'_{i}$ are column vectors and $S'_{i}$ are row vectors. Hence, the columns of $A'$ act as weights for the source signals. \n",
    "\n",
    "Hence, FOBI allows us to directly compute the matrix $A'$ which as expected, turns out to be orthogonal. (The result says that the columns of $A'$ are orthogonal eigenvectors of the matrix $cov(|X'|X')$. Hence, $A'$ is an orthogonal matrix.) Finding the signals is now trivial. $S' = A'^{-1}X' = A'^{T}X'$. (The inverse of an orthogonal matrix is simply it's transpose.)\n",
    "\n",
    "Recall that in PCA, the principal components were eigenvectors of the matrix $cov(X)$ and they were all orthogonal. Here, the columns of $A'$, which are the weights for the source signals are the eigenvectors of the matrix  $cov(|X'|X')$. And the weights are orthogonal to one another! \n",
    "\n",
    "The proof of this result and a good explanation of the FOBI algorithm can be found in the original paper by the inventor of the FOBI algorithm Jean Cardoso, [here](http://perso.telecom-paristech.fr/~Cardoso/Papers.PDF/icassp89.pdf). The notation used in the paper is rather different from the one that we have been using so far and can be rather confusing. The proof itself is however extremely elegant. \n",
    "\n",
    "Also, refer to the paper to better understand why it involves fourth order moments. Basically, if $X'$ were a simple vector, then $cov(|X'|X')$ is fourth order in $X'$. This extends to $X'$ being a matrix.\n",
    "\n",
    "So the FOBI algorithm in summary is:  \n",
    "\n",
    "1) Obtain the data matrix *X*.\n",
    "\n",
    "2) Subtract off the mean to center *X*.\n",
    "\n",
    "3) Whiten the matrix *X* to obtain the matrix *X'*.\n",
    "\n",
    "4) Compute the matrix  $cov(|X'|X')$. \n",
    "\n",
    "5) Find the eigenvectors of  $cov(|X'|X')$.\n",
    "\n",
    "6) Store the eigenvectors as columns of a matrix $Y$. ($Y$ is just $A'$)\n",
    "\n",
    "7) Retrieve the original signals as $S' = Y^{T}X'$. \n",
    "\n",
    "\n",
    "The code for the solvong the Cocktail Party Problem based on the FOBI algorithm is given below. In the code, we have used slightly different notation in some places. For instance, x for X and xn for X'. "
   ]
  },
  {
   "cell_type": "code",
   "execution_count": null,
   "metadata": {
    "collapsed": false,
    "jupyter": {
     "outputs_hidden": false
    }
   },
   "outputs": [],
   "source": [
    "%matplotlib inline\n",
    "\"\"\"\n",
    "Cocktail Party Problem solved via Independent Component Analysis.\n",
    "The Fourth Order Blind Identification(FOBI) ICA is implemented here.\n",
    "\"\"\"\n",
    "# Import packages.\n",
    "import matplotlib.pyplot as plt\n",
    "from scipy import signal\n",
    "import numpy as np\n",
    "from scipy.io import wavfile\n",
    "from scipy import linalg as LA\n",
    "\n",
    "# Input the data from the first receiver.\n",
    "samplingRate, signal1 = wavfile.read('FOBI/Sounds/mix1.wav')\n",
    "print \"Sampling rate = \", samplingRate\n",
    "print \"Data type is \", signal1.dtype\n",
    "\n",
    "# Convert the signal so that amplitude lies between 0 and 1.\n",
    "signal1 = signal1 / 255.0 - 0.5  # uint8 takes values from 0 to 255\n",
    "\n",
    "# Output information about the sound samples.\n",
    "a = signal1.shape\n",
    "n = a[0]\n",
    "print \"Number of samples: \", n\n",
    "n = n * 1.0\n",
    "\n",
    "# Input data from the second receiver and standardise it's amplitude.\n",
    "samplingRate, signal2 = wavfile.read('FOBI/Sounds/mix2.wav')\n",
    "signal2 = signal2 / 255.0 - 0.5  # uint8 takes values from 0 to 255\n",
    "\n",
    "# x is our initial data matrix.\n",
    "x = [signal1, signal2]\n",
    "\n",
    "# Plot the signals from both sources to show correlations in the data.\n",
    "plt.figure()\n",
    "plt.plot(x[0], x[1], '*b')\n",
    "plt.ylabel('Signal 2')\n",
    "plt.xlabel('Signal 1')\n",
    "plt.title(\"Original data\")\n",
    "\n",
    "# Calculate the covariance matrix of the initial data.\n",
    "cov = np.cov(x)\n",
    "# Calculate eigenvalues and eigenvectors of the covariance matrix.\n",
    "d, E = LA.eigh(cov)\n",
    "# Generate a diagonal matrix with the eigenvalues as diagonal elements.\n",
    "D = np.diag(d)\n",
    "\n",
    "Di = LA.sqrtm(LA.inv(D))\n",
    "# Perform whitening. xn is the whitened matrix.\n",
    "xn = np.dot(Di, np.dot(np.transpose(E), x))\n",
    "\n",
    "# Plot whitened data to show new structure of the data.\n",
    "plt.figure()\n",
    "plt.plot(xn[0], xn[1], '*b')\n",
    "plt.ylabel('Signal 2')\n",
    "plt.xlabel('Signal 1')\n",
    "plt.title(\"Whitened data\")\n"
   ]
  },
  {
   "cell_type": "code",
   "execution_count": null,
   "metadata": {
    "collapsed": false,
    "jupyter": {
     "outputs_hidden": false
    }
   },
   "outputs": [],
   "source": [
    "# Perform FOBI.\n",
    "norm_xn = LA.norm(xn, axis=0)\n",
    "norm = [norm_xn, norm_xn]\n",
    "\n",
    "cov2 = np.cov(np.multiply(norm, xn))\n",
    "\n",
    "d_n, Y = LA.eigh(cov2)\n",
    "\n",
    "source = np.dot(np.transpose(Y), xn)\n",
    "\n",
    "# Plot the separated sources.\n",
    "time = np.arange(0, n, 1)\n",
    "time = time / samplingRate\n",
    "time = time * 1000  # convert to milliseconds\n",
    "\n",
    "plt.figure()\n",
    "plt.subplot(2, 2, 1).set_axis_off()\n",
    "plt.plot(time, source[0], color='k')\n",
    "plt.ylabel('Amplitude')\n",
    "plt.xlabel('Time (ms)')\n",
    "plt.title(\"Generated signal 1\")\n",
    "\n",
    "plt.subplot(2, 2, 2).set_axis_off()\n",
    "plt.plot(time, source[1], color='k')\n",
    "plt.ylabel('Amplitude')\n",
    "plt.xlabel('Time (ms)')\n",
    "plt.title(\"Generated signal 2\")\n",
    "\n",
    "# Plot the actual sources for comparison.\n",
    "samplingRate, orig1 = wavfile.read('FOBI/Sounds/source1.wav')\n",
    "orig1 = orig1 / 255.0 - 0.5  # uint8 takes values from 0 to 255\n",
    "\n",
    "plt.subplot(2, 2, 3).set_axis_off()\n",
    "plt.plot(time, orig1, color='k')\n",
    "plt.ylabel('Amplitude')\n",
    "plt.xlabel('Time (ms)')\n",
    "plt.title(\"Original signal 1\")\n",
    "\n",
    "samplingRate, orig2 = wavfile.read('FOBI/Sounds/source2.wav')\n",
    "orig2 = orig2 / 255.0 - 0.5  # uint8 takes values from 0 to 255\n",
    "\n",
    "plt.subplot(2, 2, 4).set_axis_off()\n",
    "plt.plot(time, orig2, color='k')\n",
    "plt.ylabel('Amplitude')\n",
    "plt.xlabel('Time (ms)')\n",
    "plt.title(\"Original signal 2\")"
   ]
  },
  {
   "cell_type": "markdown",
   "metadata": {},
   "source": [
    "Again we plot the spectrograms"
   ]
  },
  {
   "cell_type": "code",
   "execution_count": null,
   "metadata": {
    "collapsed": false,
    "jupyter": {
     "outputs_hidden": false
    }
   },
   "outputs": [],
   "source": [
    "plt.figure()\n",
    "f, t, S = signal.spectrogram(source[0])\n",
    "plt.pcolormesh(t, f, S)\n",
    "plt.ylabel('Frequency [Hz]')\n",
    "plt.xlabel('Time [sec]')\n",
    "plt.title('Spectrogram of Output 1')\n",
    "\n",
    "plt.figure()\n",
    "f, t, S = signal.spectrogram(source[1])\n",
    "plt.pcolormesh(t, f, S)\n",
    "plt.ylabel('Frequency [Hz]')\n",
    "plt.xlabel('Time [sec]')\n",
    "plt.title('Spectrogram of Output 2')\n",
    "\n",
    "# Storing numpy array as audio\n",
    "wavfile.write('FOBI/Sounds/out1.wav', samplingRate, np.transpose(source[0]))\n",
    "wavfile.write('FOBI/Sounds/out2.wav', samplingRate, np.transpose(source[1]))"
   ]
  },
  {
   "cell_type": "code",
   "execution_count": null,
   "metadata": {
    "collapsed": false,
    "jupyter": {
     "outputs_hidden": false
    }
   },
   "outputs": [],
   "source": [
    "from IPython.display import Audio\n",
    "print('Mixed Signal 1')\n",
    "Audio(\"FOBI/Sounds/mix1.wav\")"
   ]
  },
  {
   "cell_type": "code",
   "execution_count": null,
   "metadata": {
    "collapsed": false,
    "jupyter": {
     "outputs_hidden": false
    }
   },
   "outputs": [],
   "source": [
    "print('Mixed Signal 2')\n",
    "Audio(\"FOBI/Sounds/mix2.wav\")"
   ]
  },
  {
   "cell_type": "code",
   "execution_count": null,
   "metadata": {
    "collapsed": false,
    "jupyter": {
     "outputs_hidden": false
    }
   },
   "outputs": [],
   "source": [
    "print('Original separated sound 1')\n",
    "Audio(\"FOBI/Sounds/source1.wav\")"
   ]
  },
  {
   "cell_type": "code",
   "execution_count": null,
   "metadata": {
    "collapsed": false,
    "jupyter": {
     "outputs_hidden": false
    }
   },
   "outputs": [],
   "source": [
    "print('Original separated sound 2')\n",
    "Audio(\"FOBI/Sounds/source2.wav\")"
   ]
  },
  {
   "cell_type": "code",
   "execution_count": null,
   "metadata": {
    "collapsed": false,
    "jupyter": {
     "outputs_hidden": false
    }
   },
   "outputs": [],
   "source": [
    "print('Separated signal 1 (output)')\n",
    "Audio(\"FOBI/Sounds/out1.wav\")"
   ]
  },
  {
   "cell_type": "code",
   "execution_count": null,
   "metadata": {
    "collapsed": false,
    "jupyter": {
     "outputs_hidden": false
    }
   },
   "outputs": [],
   "source": [
    "print('Separated signal 1 (output)')\n",
    "Audio(\"FOBI/Sounds/out2.wav\")"
   ]
  },
  {
   "cell_type": "markdown",
   "metadata": {},
   "source": [
    "## Conclusion\n",
    "\n",
    "* Need help in writing the code to do this"
   ]
  },
  {
   "cell_type": "markdown",
   "metadata": {},
   "source": [
    "## References\n",
    "\n",
    "The Sys ID book by Pintelon and Shoukens:\n",
    "https://books.google.com/books?id=3lGJWtjGDzsC\n",
    "\n",
    "SysID classroom exercises:\n",
    "https://caltech.tind.io/record/748967?ln=en\n",
    "\n",
    "How to take the frequency response measurement and find the plant parameters:\n",
    "\n",
    "[\"Parameter Estimation and Model Order Identification of LTI Systems\"](https://lmgtfy.com/?q=10.0.3.248%2Fj.ifacol.2016.07.333)\n",
    "\n",
    "How to estimate the covariance matrix:\n",
    "\n",
    "How to iterate the multi-sine excitation waveform based on the matrix:"
   ]
  },
  {
   "cell_type": "code",
   "execution_count": null,
   "metadata": {},
   "outputs": [],
   "source": []
  }
 ],
 "metadata": {
  "anaconda-cloud": {},
  "kernelspec": {
   "display_name": "Python 3",
   "language": "python",
   "name": "python3"
  },
  "language_info": {
   "codemirror_mode": {
    "name": "ipython",
    "version": 3
   },
   "file_extension": ".py",
   "mimetype": "text/x-python",
   "name": "python",
   "nbconvert_exporter": "python",
   "pygments_lexer": "ipython3",
   "version": "3.6.7"
  }
 },
 "nbformat": 4,
 "nbformat_minor": 4
}
