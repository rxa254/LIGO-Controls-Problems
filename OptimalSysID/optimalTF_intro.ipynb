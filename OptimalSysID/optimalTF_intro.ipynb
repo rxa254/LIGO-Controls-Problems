{
 "cells": [
  {
   "cell_type": "markdown",
   "metadata": {},
   "source": [
    "# <font color= 'Green'>Optimal System Identification for LIGO</font>\n",
    "### of linear, time-invariant (LTI) systems\n",
    "***\n",
    "* the LIGO Control Systems Working Group wiki: https://wiki.ligo.org/CSWG/OptTF\n",
    "* Rana's public GitHub page on LIGO Controls problems: https://github.com/rxa254/LIGO-Controls-Problems\n",
    "***\n",
    "This notebook is meant to give an introduction to a couple of kinds of sysID problems in LIGO. The goal is to generate a few specific strategies to do this better for important cases, and eventually to make a more general tool for this."
   ]
  },
  {
   "cell_type": "markdown",
   "metadata": {},
   "source": [
    "# Overview\n",
    "## The Identification Problem\n",
    "We would like to know what our physical plants (optics, suspensions, electronics, cavities) are doing. In nearly all cases, we need not consider the nonlinearity or time-dependence of the plant (notable exceptions due to thermal processes and slow drift and changes in laser power).\n",
    "\n",
    "We approach this problem by making Transfer Functions (TF) of the system that we are interested in.\n",
    "\n",
    "How to make a TF measurement:\n",
    "1. with enough SNR at the frequencies of interest\n",
    "1. without saturating the actuators too much\n",
    "1. within a small enough amount of time (so that our precious commissioning / observation time is not squandered)"
   ]
  },
  {
   "cell_type": "code",
   "execution_count": 7,
   "metadata": {
    "collapsed": false,
    "jupyter": {
     "outputs_hidden": false
    }
   },
   "outputs": [],
   "source": [
    "%matplotlib inline\n",
    "# Import packages.\n",
    "import matplotlib.pyplot as plt\n",
    "import scipy.signal as sig\n",
    "import numpy as np\n",
    "\n",
    "\n"
   ]
  },
  {
   "cell_type": "code",
   "execution_count": 10,
   "metadata": {},
   "outputs": [],
   "source": [
    "# Let's define the system to be 'identified'\n",
    "fs = 1024\n",
    "\n",
    "# pendulum\n",
    "zz = []\n",
    "f_p = 1\n",
    "theta_p = 60\n",
    "pp = [f_p * np.exp(1j * theta_p * np.pi/180)]\n",
    "pp = [pp[0], np.conj(pp[0])]\n",
    "pp = np.array(pp)\n",
    "pend = sig.ZerosPolesGain(zz, pp, 1)\n",
    "\n",
    "sos = sig.zpk2sos(zz, pp/(fs/2), 1)"
   ]
  },
  {
   "cell_type": "code",
   "execution_count": 12,
   "metadata": {
    "collapsed": false,
    "jupyter": {
     "outputs_hidden": false
    }
   },
   "outputs": [
    {
     "data": {
      "text/plain": [
       "(65536,)"
      ]
     },
     "execution_count": 12,
     "metadata": {},
     "output_type": "execute_result"
    }
   ],
   "source": [
    "# filter some white noise using this filter\n",
    "dur = 64\n",
    "x = np.random.randn(fs*dur)\n",
    "np.shape(x)"
   ]
  },
  {
   "cell_type": "markdown",
   "metadata": {},
   "source": [
    "## Conclusion\n",
    "\n",
    "* Need help in writing the code to do this"
   ]
  },
  {
   "cell_type": "markdown",
   "metadata": {},
   "source": [
    "## References\n",
    "\n",
    "The Sys ID book by Pintelon and Shoukens:\n",
    "https://books.google.com/books?id=3lGJWtjGDzsC\n",
    "\n",
    "SysID classroom exercises:\n",
    "https://caltech.tind.io/record/748967?ln=en\n",
    "\n",
    "How to take the frequency response measurement and find the plant parameters:\n",
    "\n",
    "[\"Parameter Estimation and Model Order Identification of LTI Systems\"](https://lmgtfy.com/?q=10.0.3.248%2Fj.ifacol.2016.07.333)\n",
    "\n",
    "How to estimate the covariance matrix:\n",
    "\n",
    "How to iterate the multi-sine excitation waveform based on the matrix:"
   ]
  },
  {
   "cell_type": "code",
   "execution_count": null,
   "metadata": {},
   "outputs": [],
   "source": []
  }
 ],
 "metadata": {
  "anaconda-cloud": {},
  "kernelspec": {
   "display_name": "Python 3",
   "language": "python",
   "name": "python3"
  },
  "language_info": {
   "codemirror_mode": {
    "name": "ipython",
    "version": 3
   },
   "file_extension": ".py",
   "mimetype": "text/x-python",
   "name": "python",
   "nbconvert_exporter": "python",
   "pygments_lexer": "ipython3",
   "version": "3.6.9"
  }
 },
 "nbformat": 4,
 "nbformat_minor": 4
}
